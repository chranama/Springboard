{
 "cells": [
  {
   "cell_type": "markdown",
   "metadata": {},
   "source": [
    "# What is the True Normal Human Body Temperature? \n",
    "\n",
    "#### Background\n",
    "\n",
    "The mean normal body temperature was held to be 37$^{\\circ}$C or 98.6$^{\\circ}$F for more than 120 years since it was first conceptualized and reported by Carl Wunderlich in a famous 1868 book. But, is this value statistically correct?"
   ]
  },
  {
   "cell_type": "markdown",
   "metadata": {},
   "source": [
    "<h3>Exercises</h3>\n",
    "\n",
    "<p>In this exercise, you will analyze a dataset of human body temperatures and employ the concepts of hypothesis testing, confidence intervals, and statistical significance.</p>\n",
    "\n",
    "<p>Answer the following questions <b>in this notebook below and submit to your Github account</b>.</p> \n",
    "\n",
    "<ol>\n",
    "<li>  Is the distribution of body temperatures normal? \n",
    "    <ul>\n",
    "    <li> Although this is not a requirement for the Central Limit Theorem to hold (read the introduction on Wikipedia's page about the CLT carefully: https://en.wikipedia.org/wiki/Central_limit_theorem), it gives us some peace of mind that the population may also be normally distributed if we assume that this sample is representative of the population.\n",
    "    <li> Think about the way you're going to check for the normality of the distribution. Graphical methods are usually used first, but there are also other ways: https://en.wikipedia.org/wiki/Normality_test\n",
    "    </ul>\n",
    "<li>  Is the sample size large? Are the observations independent?\n",
    "    <ul>\n",
    "    <li> Remember that this is a condition for the Central Limit Theorem, and hence the statistical tests we are using, to apply.\n",
    "    </ul>\n",
    "<li>  Is the true population mean really 98.6 degrees F?\n",
    "    <ul>\n",
    "    <li> First, try a bootstrap hypothesis test.\n",
    "    <li> Now, let's try frequentist statistical testing. Would you use a one-sample or two-sample test? Why?\n",
    "    <li> In this situation, is it appropriate to use the $t$ or $z$ statistic? \n",
    "    <li> Now try using the other test. How is the result be different? Why?\n",
    "    </ul>\n",
    "<li>  Draw a small sample of size 10 from the data and repeat both frequentist tests. \n",
    "    <ul>\n",
    "    <li> Which one is the correct one to use? \n",
    "    <li> What do you notice? What does this tell you about the difference in application of the $t$ and $z$ statistic?\n",
    "    </ul>\n",
    "<li>  At what temperature should we consider someone's temperature to be \"abnormal\"?\n",
    "    <ul>\n",
    "    <li> As in the previous example, try calculating everything using the boostrap approach, as well as the frequentist approach.\n",
    "    <li> Start by computing the margin of error and confidence interval. When calculating the confidence interval, keep in mind that you should use the appropriate formula for one draw, and not N draws.\n",
    "    </ul>\n",
    "<li>  Is there a significant difference between males and females in normal temperature?\n",
    "    <ul>\n",
    "    <li> What testing approach did you use and why?\n",
    "    <li> Write a story with your conclusion in the context of the original problem.\n",
    "    </ul>\n",
    "</ol>\n",
    "\n",
    "You can include written notes in notebook cells using Markdown: \n",
    "   - In the control panel at the top, choose Cell > Cell Type > Markdown\n",
    "   - Markdown syntax: http://nestacms.com/docs/creating-content/markdown-cheat-sheet\n",
    "\n",
    "#### Resources\n",
    "\n",
    "+ Information and data sources: http://www.amstat.org/publications/jse/datasets/normtemp.txt, http://www.amstat.org/publications/jse/jse_data_archive.htm\n",
    "+ Markdown syntax: http://nestacms.com/docs/creating-content/markdown-cheat-sheet\n",
    "\n",
    "****"
   ]
  },
  {
   "cell_type": "code",
   "execution_count": 1,
   "metadata": {
    "collapsed": true
   },
   "outputs": [],
   "source": [
    "import matplotlib.pyplot as plt\n",
    "import pandas as pd\n",
    "% matplotlib inline\n",
    "\n",
    "df = pd.read_csv('data/human_body_temperature.csv')"
   ]
  },
  {
   "cell_type": "code",
   "execution_count": 2,
   "metadata": {
    "collapsed": false
   },
   "outputs": [
    {
     "name": "stdout",
     "output_type": "stream",
     "text": [
      "<class 'pandas.core.frame.DataFrame'>\n",
      "RangeIndex: 130 entries, 0 to 129\n",
      "Data columns (total 3 columns):\n",
      "temperature    130 non-null float64\n",
      "gender         130 non-null object\n",
      "heart_rate     130 non-null float64\n",
      "dtypes: float64(2), object(1)\n",
      "memory usage: 3.1+ KB\n"
     ]
    }
   ],
   "source": [
    "# Your work here.\n",
    "df.info()"
   ]
  },
  {
   "cell_type": "code",
   "execution_count": 3,
   "metadata": {
    "collapsed": false
   },
   "outputs": [
    {
     "data": {
      "text/plain": [
       "0    F\n",
       "1    F\n",
       "2    M\n",
       "3    F\n",
       "4    F\n",
       "Name: gender, dtype: object"
      ]
     },
     "execution_count": 3,
     "metadata": {},
     "output_type": "execute_result"
    }
   ],
   "source": [
    "df.gender.head()"
   ]
  },
  {
   "cell_type": "code",
   "execution_count": 4,
   "metadata": {
    "collapsed": false
   },
   "outputs": [
    {
     "data": {
      "text/plain": [
       "0    99.3\n",
       "1    98.4\n",
       "2    97.8\n",
       "3    99.2\n",
       "4    98.0\n",
       "Name: temperature, dtype: float64"
      ]
     },
     "execution_count": 4,
     "metadata": {},
     "output_type": "execute_result"
    }
   ],
   "source": [
    "df.temperature.head()"
   ]
  },
  {
   "cell_type": "code",
   "execution_count": 5,
   "metadata": {
    "collapsed": false
   },
   "outputs": [
    {
     "data": {
      "text/plain": [
       "0    68.0\n",
       "1    81.0\n",
       "2    73.0\n",
       "3    66.0\n",
       "4    73.0\n",
       "Name: heart_rate, dtype: float64"
      ]
     },
     "execution_count": 5,
     "metadata": {},
     "output_type": "execute_result"
    }
   ],
   "source": [
    "df.heart_rate.head()"
   ]
  },
  {
   "cell_type": "markdown",
   "metadata": {},
   "source": [
    "Questions 1 and 2\n",
    "\n",
    "From visual inspection of the temperature histogram, it's quite plausible that this data is normal.  We can two types of checks to test for normality.\n",
    "\n",
    "First we can use the fact that this is a sampling distribution, and see if we have met the following conditions that imply normality:\n",
    "\n",
    "1) Random condition--the documentation states that the data came from a random sample.\n",
    "\n",
    "2) Normality condition--this seems like circular logic, but what this is checking is if either the underlying distribution is Normal or if we have enough data points (n>30) to say that the sampling will generate a normal distribution.  With n=130, we can assume normality.\n",
    "\n",
    "3) Independence condition--this is met either if we sampled with replacement or if our sample is less than 10% of the population size.  Since 130 << 7 billion, we meet this condition.\n",
    "\n",
    "Second, we can run a hypothesis test with a test statistic that has a characteristic behavior when applied to a normal distribution.  I will run tests with two such test statistics and set alpha = 0.05.  For both tests the null hypothesis is that the underlying distribution exhibits normality, while the alternative hypothesis is that the distributions deviate from normality.  In both tests, we get p-values around 0.25, from which we can conclude that there's insufficient evidence for a deviation from normality."
   ]
  },
  {
   "cell_type": "code",
   "execution_count": 6,
   "metadata": {
    "collapsed": false,
    "scrolled": true
   },
   "outputs": [
    {
     "data": {
      "text/plain": [
       "array([[<matplotlib.axes._subplots.AxesSubplot object at 0x1105072b0>]], dtype=object)"
      ]
     },
     "execution_count": 6,
     "metadata": {},
     "output_type": "execute_result"
    },
    {
     "data": {
      "image/png": "[encoded data removed]",
      "text/plain": [
       "<matplotlib.figure.Figure at 0x1104ad940>"
      ]
     },
     "metadata": {},
     "output_type": "display_data"
    }
   ],
   "source": [
    "df.hist(column='temperature', bins=20)"
   ]
  },
  {
   "cell_type": "code",
   "execution_count": 7,
   "metadata": {
    "collapsed": false
   },
   "outputs": [
    {
     "name": "stdout",
     "output_type": "stream",
     "text": [
      "The test statistic is 0.9865770936012268 with an associated p-value of 0.233174666762352\n",
      "\n",
      "The test statistic is 2.70380143332 with an associated p-value of 0.258747986349\n",
      "\n"
     ]
    }
   ],
   "source": [
    "#hypothesis testing for distribution normality\n",
    "from scipy import stats\n",
    "\n",
    "shapiro_stat, shapiro_p = stats.shapiro(df.temperature)\n",
    "print('The test statistic is ' + str(shapiro_stat) + ' with an associated p-value of ' + str(shapiro_p) +'\\n')\n",
    "\n",
    "dagostino_stat, dagostino_p = stats.normaltest(df.temperature)\n",
    "print('The test statistic is ' + str(dagostino_stat) + ' with an associated p-value of ' + str(dagostino_p) +'\\n')\n"
   ]
  },
  {
   "cell_type": "markdown",
   "metadata": {},
   "source": [
    "Question 3\n",
    "\n",
    "To perform a hypothesis test on if the population mean of human body temeperature is 98.6, we should first calcuate the sample mean from our data.  We get 98.25.  From there we can set up the hypothesis tests.  We will continue to use alpha = 0.05.  For the null hypothesis we have that the true mean is ≥ 98.25, while the alternative hypothesis is that the true mean is < 98.25.\n",
    "\n",
    "We will use two types of test statistics to enter into the hypothesis test.  For the bootstrap testing, we are resampling the data with replacement for a set number of trials, and for each trial we recalculate the sample mean.  We then calculate the proportion of recalculated sample means, called bootstrap replicates, that satisfy the alternative hypothesis.  This test statistic can be directly interpreted as a p value.  For this test we obtain p = 0.0.  Since for this test the statistic can only take discrete values of fractions of the sample size, that is x/10000 where 0 ≤ x ≤ 10000, we should interpret this result as that the p value is between 0 and 1/10000.  Still, this p is sufficiently small to reject the null hypothesis and state that the true mean is at least as extreme as the sample mean, that is, mu < 98.25.\n",
    "\n",
    "We can rerun the hypothesis test using the more traditional t statistic.  We calculate the t statistic to be -5.45 with df = 129, and the corresponding p value of 2.45e-7.  Additionally, knowing that the t statistic is a correction on the z statistic for unknown standard deviation, with convergence in probability distribution for large sample size, we can run the hypothesis test a third time with the z statistic.  The results are similar to the t statistic test, with the same conclusion."
   ]
  },
  {
   "cell_type": "code",
   "execution_count": 8,
   "metadata": {
    "collapsed": true
   },
   "outputs": [],
   "source": [
    "import numpy as np\n",
    "\n",
    "#function from Datacamp Statistical Thinking in Python (Part 2)\n",
    "def draw_bs_reps(data, func, size=1):\n",
    "    \"\"\"Draw bootstrap replicates.\"\"\"\n",
    "\n",
    "    np.random.seed(1)\n",
    "    # Initialize array of replicates: bs_replicates\n",
    "    bs_replicates = np.empty(size)\n",
    "\n",
    "    # Generate replicates\n",
    "    for i in range(size):\n",
    "        bs_replicates[i] = func(np.random.choice(data, size=len(data)))\n",
    "\n",
    "    return bs_replicates"
   ]
  },
  {
   "cell_type": "code",
   "execution_count": 9,
   "metadata": {
    "collapsed": false
   },
   "outputs": [
    {
     "name": "stdout",
     "output_type": "stream",
     "text": [
      "The sample mean of temperature measurements is: 98.24923076923078\n",
      "\n",
      "Using bootstrap hypothesis testing, with\n",
      "H0: x_bar_rep ≥ x_bar\n",
      "H1: x_bar_rep < x_bar\n",
      "where x_bar = sample mean and x_bar_rep = bootstrap replicate of the sample mean,\n",
      "we get a p-value, which is the test statistic, of 0.0\n"
     ]
    }
   ],
   "source": [
    "#bootstrap hypothesis testing for mean temperature\n",
    "\n",
    "bs_size = 10000\n",
    "sample_temp_mean = df.temperature.mean()\n",
    "print('The sample mean of temperature measurements is: ' + str(sample_temp_mean) + '\\n')\n",
    "shifted_temps = df.temperature.values - sample_temp_mean + 98.6\n",
    "bs_replicates = draw_bs_reps(shifted_temps, np.mean, bs_size)\n",
    "p = np.sum(bs_replicates <= sample_temp_mean) / bs_size\n",
    "print('Using bootstrap hypothesis testing, with\\nH0: x_bar_rep ≥ x_bar\\nH1: x_bar_rep < x_bar\\nwhere x_bar = \\\n",
    "sample mean and x_bar_rep = bootstrap replicate of the sample mean,\\nwe get a p-value, which is the test statistic, \\\n",
    "of ' + str(p))"
   ]
  },
  {
   "cell_type": "code",
   "execution_count": 10,
   "metadata": {
    "collapsed": false
   },
   "outputs": [
    {
     "name": "stdout",
     "output_type": "stream",
     "text": [
      "Test statistic t: -5.45482329236 with associated p value: 2.41063204156e-07\n"
     ]
    }
   ],
   "source": [
    "#t statistic hypothesis test for mean temperature\n",
    "t_stat, t_p = stats.ttest_1samp(df.temperature, 98.6)\n",
    "print('Test statistic t: ' + str(t_stat) + ' with associated p value: ' + str(t_p))"
   ]
  },
  {
   "cell_type": "code",
   "execution_count": 11,
   "metadata": {
    "collapsed": false
   },
   "outputs": [
    {
     "name": "stdout",
     "output_type": "stream",
     "text": [
      "Test statistic z: -5.45482329236 with associated p value: 2.45107850706e-08\n"
     ]
    }
   ],
   "source": [
    "#z statistic hypothesis test for mean temperature\n",
    "\n",
    "z_stat = (sample_temp_mean - 98.6) / stats.sem(df.temperature)\n",
    "z_p = stats.norm.cdf(z_stat)\n",
    "print('Test statistic z: ' + str(z_stat) + ' with associated p value: ' + str(z_p))"
   ]
  },
  {
   "cell_type": "markdown",
   "metadata": {},
   "source": [
    "Question 4\n",
    "\n",
    "Here we are taking a smaller sample of n = 10 from our original sample and recalculating both frequentist hypothesis tests.  As stated earlier, the t statistic is a correction of the z statistic for unknown standard deviation, and converges in probability distribution for large n.  Reducing the sample size will cause the results to diverge, which is what happens when the two hypothesis tests are calculated.  With the t statistic we cannot reject the null hypothesis, while with the z statistic we can.  Behind the scenes, both the standard normal distribution and its derivative t distribution have an \"idealized\" variance of 1.  However, the correction in the t distribution, calculated from the degrees of freedom, effectively rescales the variance to be greater than 1.  This causes the probability density for extreme values to increase, thereby causing the p value to increase with respect to the corresponding z statistic and p value."
   ]
  },
  {
   "cell_type": "code",
   "execution_count": 12,
   "metadata": {
    "collapsed": false
   },
   "outputs": [
    {
     "name": "stdout",
     "output_type": "stream",
     "text": [
      "[  98.9   98.6   98.3   99.9   99.1   98.5   98.1  100.8   98.4   99.1] <class 'numpy.ndarray'> \n",
      "\n",
      "Test statistic t: 1.4164571145 with associated p value: 0.190309647282\n",
      "\n",
      "Test statistic z: 1.4164571145 with associated p value: 0.921679144072\n",
      "\n"
     ]
    }
   ],
   "source": [
    "sm_sample = np.random.choice(df.temperature, replace=False, size=10)\n",
    "print(sm_sample, type(sm_sample), '\\n')\n",
    "t_sm_stat, t_sm_p = stats.ttest_1samp(sm_sample, 98.6)\n",
    "print('Test statistic t: ' + str(t_sm_stat) + ' with associated p value: ' + str(t_sm_p) + '\\n')\n",
    "z_sm_stat = (np.mean(sm_sample) - 98.6) / stats.sem(sm_sample)\n",
    "z_sm_p = stats.norm.cdf(z_sm_stat)\n",
    "print('Test statistic z: ' + str(z_sm_stat) + ' with associated p value: ' + str(z_sm_p) + '\\n')"
   ]
  },
  {
   "cell_type": "markdown",
   "metadata": {},
   "source": [
    "Question 5\n",
    "\n",
    "I will define \"abnormal\" to be outside the 95% confidence interval of a 1-sample estimate of the mean temperature.  With that set, we can calculate the confidence interval using our two approaches.  The bootstrap method devolves into calculating an interval with the 2.5 and 97.5 percentile data measurements.  For the frequentist approach, we calculate the standard deviation of the data.  We then use the fact that, for a normal distribution, 95% of the probability density lies within approximately 1.96 standard deviations of the mean to create the confidence interval."
   ]
  },
  {
   "cell_type": "code",
   "execution_count": 13,
   "metadata": {
    "collapsed": false
   },
   "outputs": [
    {
     "name": "stdout",
     "output_type": "stream",
     "text": [
      "Bootstrap confidence interval: [ 96.7225  99.4775]\n",
      "\n",
      "Frequentist confidence interval: [ 96.81219178  99.68626976]\n",
      "\n"
     ]
    }
   ],
   "source": [
    "#bootstrap confidence interval\n",
    "\n",
    "bs_conf_int = np.percentile(df.temperature, [2.5, 97.5])\n",
    "print('Bootstrap confidence interval: ' + str(bs_conf_int) + '\\n')\n",
    "\n",
    "#frequentist confidence interval\n",
    "offset = 1.96 * df.temperature.std()\n",
    "freq_conf_int = np.array([sample_temp_mean - offset, sample_temp_mean + offset])\n",
    "print('Frequentist confidence interval: ' + str(freq_conf_int) + '\\n')"
   ]
  },
  {
   "cell_type": "markdown",
   "metadata": {},
   "source": [
    "Question 6\n",
    "\n",
    "For this hypothesis test we will use an unpaired two-sample t test.  The two samples are the female and male samples.  The results should be interpreted as the probability that the empirical difference between the two sample means would be measured given that the two true means are the same.  We reject the null hypothesis and state that there is sufficient statistical evidence to support the assertion that the population means between female and male body temperatures are different."
   ]
  },
  {
   "cell_type": "code",
   "execution_count": 14,
   "metadata": {
    "collapsed": false
   },
   "outputs": [
    {
     "name": "stdout",
     "output_type": "stream",
     "text": [
      "Test statistic t: 2.28543453817 with associated p value: 0.0239318831224\n",
      "\n"
     ]
    }
   ],
   "source": [
    "#t statistic hypothesis test of difference between female and male temperatures\n",
    "\n",
    "female_temp = df.temperature[df.gender == 'F']\n",
    "male_temp = df.temperature[df.gender == 'M']\n",
    "t_diff_stat, t_diff_p = stats.ttest_ind(female_temp, male_temp)\n",
    "print('Test statistic t: ' + str(t_diff_stat) + ' with associated p value: ' + str(t_diff_p) + '\\n')"
   ]
  }
 ],
 "metadata": {
  "kernelspec": {
   "display_name": "Python 3",
   "language": "python",
   "name": "python3"
  },
  "language_info": {
   "codemirror_mode": {
    "name": "ipython",
    "version": 3
   },
   "file_extension": ".py",
   "mimetype": "text/x-python",
   "name": "python",
   "nbconvert_exporter": "python",
   "pygments_lexer": "ipython3",
   "version": "3.6.0"
  }
 },
 "nbformat": 4,
 "nbformat_minor": 1
}
