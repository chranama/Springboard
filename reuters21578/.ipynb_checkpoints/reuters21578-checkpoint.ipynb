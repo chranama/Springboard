{
 "cells": [
  {
   "cell_type": "code",
   "execution_count": 1,
   "metadata": {
    "collapsed": false
   },
   "outputs": [],
   "source": [
    "#The data, once extracted, is contained within 22 files with .sgm file extension, a legacy markup format.\n",
    "#To proceed, we need to convert to .xml.  I will use the unix command osx from the library OpenSP.\n",
    "#OpenSP is not a standard library, but can be installed via the Homebrew Package Manager.\n",
    "#Homebrew is built for the macOS operating system.\n",
    "#For other environments, a different solution will need to be found to obtain OpenSP.\n",
    "\n",
    "#The installation of Homebrew was done with the following command at terminal:\n",
    "#ruby -e \"$(curl -fsSL https://raw.githubusercontent.com/Homebrew/install/master/install)\" < /dev/null 2> /dev/null\n",
    "\n",
    "#With Homebrew installed, I installed the OpenSP package with the following command at terminal:\n",
    "#brew install open-sp\n",
    "\n",
    "import requests\n",
    "import tempfile\n",
    "from os import path\n",
    "import tarfile\n",
    "import subprocess\n",
    "from bs4 import BeautifulSoup\n",
    "from sklearn.feature_extraction.text import CountVectorizer\n",
    "import pandas as pd"
   ]
  },
  {
   "cell_type": "code",
   "execution_count": 2,
   "metadata": {
    "collapsed": false
   },
   "outputs": [],
   "source": [
    "url = 'https://archive.ics.uci.edu/ml/machine-learning-databases/reuters21578-mld/reuters21578.tar.gz'\n",
    "resp = requests.get(url)\n",
    "data_dict = {'split':[], 'title':[], 'body':[], 'topics':[], 'topics_count':[], 'freq_vec':[]}\n",
    "\n",
    "with tempfile.TemporaryDirectory() as tmp_dir:\n",
    "    targz_path = path.join(tmp_dir, 'reuters21578.tar.gz')\n",
    "    with open(targz_path, 'wb') as targz_file:\n",
    "        targz_file.write(resp.content)\n",
    "    with tarfile.open(targz_path, 'r:gz') as targz_file:\n",
    "        targz_file.extractall(path=tmp_dir)\n",
    "    for num in range(22):\n",
    "        sgm_path = path.join(tmp_dir, 'reut2-0' + str(num).zfill(2) + '.sgm')\n",
    "        with open(sgm_path, 'r', encoding='cp1252') as sgm_file:\n",
    "            xml_text = subprocess.run(['osx', '--directory=' + tmp_dir], stdin=sgm_file, \\\n",
    "                stdout=subprocess.PIPE, encoding='utf-8').stdout\n",
    "        soup = BeautifulSoup(xml_text, 'xml')\n",
    "        for article in soup.find_all('REUTERS'):\n",
    "            data_dict['split'].append(article['CGISPLIT'])\n",
    "            if article.TITLE is not None:\n",
    "                data_dict['title'].append(article.TITLE.string)\n",
    "            else:\n",
    "                data_dict['title'].append('')\n",
    "            if article.BODY is not None:\n",
    "                data_dict['body'].append(article.BODY.string)\n",
    "            else:\n",
    "                data_dict['body'].append('')\n",
    "            if (article.TOPICS is not None) & (article.TOPICS.D is not None):\n",
    "                topics_list = [topic.string for topic in article.TOPICS.find_all('D')]\n",
    "                data_dict['topics'].append(topics_list)\n",
    "                data_dict['topics_count'].append(len(topics_list))\n",
    "            else:\n",
    "                data_dict['topics'].append([])\n",
    "                data_dict['topics_count'].append(0)\n",
    "\n",
    "vectorizer = CountVectorizer(analyzer = 'word', tokenizer = None, preprocessor = None, \\\n",
    "    stop_words = None, max_features = 5000)\n",
    "train_data_features = vectorizer.fit_transform(data_dict['body'])\n",
    "for text in data_dict['body']:\n",
    "    data_dict['freq_vec'].append(vectorizer.transform([text]).toarray())\n",
    "\n",
    "data = pd.DataFrame.from_dict(data_dict)"
   ]
  },
  {
   "cell_type": "code",
   "execution_count": 3,
   "metadata": {
    "collapsed": false
   },
   "outputs": [
    {
     "name": "stdout",
     "output_type": "stream",
     "text": [
      "<class 'pandas.core.frame.DataFrame'>\n",
      "RangeIndex: 21578 entries, 0 to 21577\n",
      "Data columns (total 6 columns):\n",
      "body            21578 non-null object\n",
      "freq_vec        21578 non-null object\n",
      "split           21578 non-null object\n",
      "title           21578 non-null object\n",
      "topics          21578 non-null object\n",
      "topics_count    21578 non-null int64\n",
      "dtypes: int64(1), object(5)\n",
      "memory usage: 1011.5+ KB\n"
     ]
    }
   ],
   "source": [
    "data.info()"
   ]
  },
  {
   "cell_type": "code",
   "execution_count": 4,
   "metadata": {
    "collapsed": false
   },
   "outputs": [
    {
     "data": {
      "text/html": [
       "<div>\n",
       "<table border=\"1\" class=\"dataframe\">\n",
       "  <thead>\n",
       "    <tr style=\"text-align: right;\">\n",
       "      <th></th>\n",
       "      <th>body</th>\n",
       "      <th>freq_vec</th>\n",
       "      <th>split</th>\n",
       "      <th>title</th>\n",
       "      <th>topics</th>\n",
       "      <th>topics_count</th>\n",
       "    </tr>\n",
       "  </thead>\n",
       "  <tbody>\n",
       "    <tr>\n",
       "      <th>0</th>\n",
       "      <td>Showers continued throughout the week in\n",
       "the B...</td>\n",
       "      <td>[[0, 0, 0, 0, 0, 0, 0, 0, 1, 0, 0, 0, 0, 0, 0,...</td>\n",
       "      <td>TRAINING-SET</td>\n",
       "      <td>BAHIA COCOA REVIEW</td>\n",
       "      <td>[cocoa]</td>\n",
       "      <td>1</td>\n",
       "    </tr>\n",
       "    <tr>\n",
       "      <th>1</th>\n",
       "      <td>Standard Oil Co and BP North America\n",
       "Inc said ...</td>\n",
       "      <td>[[0, 0, 0, 0, 0, 0, 0, 0, 0, 0, 0, 0, 0, 0, 0,...</td>\n",
       "      <td>TRAINING-SET</td>\n",
       "      <td>STANDARD OIL lt;SRD TO FORM FINANCIAL UNIT</td>\n",
       "      <td>[]</td>\n",
       "      <td>0</td>\n",
       "    </tr>\n",
       "    <tr>\n",
       "      <th>2</th>\n",
       "      <td>Texas Commerce Bancshares Inc's Texas\n",
       "Commerce...</td>\n",
       "      <td>[[0, 0, 0, 0, 0, 0, 0, 0, 0, 0, 0, 0, 0, 0, 0,...</td>\n",
       "      <td>TRAINING-SET</td>\n",
       "      <td>TEXAS COMMERCE BANCSHARES lt;TCB FILES PLAN</td>\n",
       "      <td>[]</td>\n",
       "      <td>0</td>\n",
       "    </tr>\n",
       "    <tr>\n",
       "      <th>3</th>\n",
       "      <td>BankAmerica Corp is not under\n",
       "pressure to act ...</td>\n",
       "      <td>[[0, 0, 0, 0, 0, 0, 0, 0, 0, 0, 0, 0, 0, 0, 0,...</td>\n",
       "      <td>TRAINING-SET</td>\n",
       "      <td>TALKING POINT/BANKAMERICA lt;BAC EQUITY OFFER</td>\n",
       "      <td>[]</td>\n",
       "      <td>0</td>\n",
       "    </tr>\n",
       "    <tr>\n",
       "      <th>4</th>\n",
       "      <td>The U.S. Agriculture Department\n",
       "reported the f...</td>\n",
       "      <td>[[0, 0, 0, 0, 0, 0, 0, 0, 0, 0, 0, 0, 0, 1, 0,...</td>\n",
       "      <td>TRAINING-SET</td>\n",
       "      <td>NATIONAL AVERAGE PRICES FOR FARMER-OWNED RESERVE</td>\n",
       "      <td>[grain, wheat, corn, barley, oat, sorghum]</td>\n",
       "      <td>6</td>\n",
       "    </tr>\n",
       "  </tbody>\n",
       "</table>\n",
       "</div>"
      ],
      "text/plain": [
       "                                                body  \\\n",
       "0  Showers continued throughout the week in\n",
       "the B...   \n",
       "1  Standard Oil Co and BP North America\n",
       "Inc said ...   \n",
       "2  Texas Commerce Bancshares Inc's Texas\n",
       "Commerce...   \n",
       "3  BankAmerica Corp is not under\n",
       "pressure to act ...   \n",
       "4  The U.S. Agriculture Department\n",
       "reported the f...   \n",
       "\n",
       "                                            freq_vec         split  \\\n",
       "0  [[0, 0, 0, 0, 0, 0, 0, 0, 1, 0, 0, 0, 0, 0, 0,...  TRAINING-SET   \n",
       "1  [[0, 0, 0, 0, 0, 0, 0, 0, 0, 0, 0, 0, 0, 0, 0,...  TRAINING-SET   \n",
       "2  [[0, 0, 0, 0, 0, 0, 0, 0, 0, 0, 0, 0, 0, 0, 0,...  TRAINING-SET   \n",
       "3  [[0, 0, 0, 0, 0, 0, 0, 0, 0, 0, 0, 0, 0, 0, 0,...  TRAINING-SET   \n",
       "4  [[0, 0, 0, 0, 0, 0, 0, 0, 0, 0, 0, 0, 0, 1, 0,...  TRAINING-SET   \n",
       "\n",
       "                                              title  \\\n",
       "0                                BAHIA COCOA REVIEW   \n",
       "1        STANDARD OIL lt;SRD TO FORM FINANCIAL UNIT   \n",
       "2       TEXAS COMMERCE BANCSHARES lt;TCB FILES PLAN   \n",
       "3     TALKING POINT/BANKAMERICA lt;BAC EQUITY OFFER   \n",
       "4  NATIONAL AVERAGE PRICES FOR FARMER-OWNED RESERVE   \n",
       "\n",
       "                                       topics  topics_count  \n",
       "0                                     [cocoa]             1  \n",
       "1                                          []             0  \n",
       "2                                          []             0  \n",
       "3                                          []             0  \n",
       "4  [grain, wheat, corn, barley, oat, sorghum]             6  "
      ]
     },
     "execution_count": 4,
     "metadata": {},
     "output_type": "execute_result"
    }
   ],
   "source": [
    "data.head()"
   ]
  },
  {
   "cell_type": "code",
   "execution_count": 5,
   "metadata": {
    "collapsed": false
   },
   "outputs": [
    {
     "data": {
      "text/plain": [
       "11367"
      ]
     },
     "execution_count": 5,
     "metadata": {},
     "output_type": "execute_result"
    }
   ],
   "source": [
    "sum(data.topics_count > 0)"
   ]
  },
  {
   "cell_type": "code",
   "execution_count": null,
   "metadata": {
    "collapsed": true
   },
   "outputs": [],
   "source": []
  }
 ],
 "metadata": {
  "kernelspec": {
   "display_name": "Python 3",
   "language": "python",
   "name": "python3"
  },
  "language_info": {
   "codemirror_mode": {
    "name": "ipython",
    "version": 3
   },
   "file_extension": ".py",
   "mimetype": "text/x-python",
   "name": "python",
   "nbconvert_exporter": "python",
   "pygments_lexer": "ipython3",
   "version": "3.6.0"
  }
 },
 "nbformat": 4,
 "nbformat_minor": 2
}
