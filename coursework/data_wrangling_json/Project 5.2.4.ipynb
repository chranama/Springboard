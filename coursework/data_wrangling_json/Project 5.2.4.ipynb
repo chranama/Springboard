{
 "cells": [
  {
   "cell_type": "markdown",
   "metadata": {},
   "source": [
    "This is a solution to Project 5.2.4, with the instructions as follows:\n",
    "\n",
    "Using data in file 'data/world_bank_projects.json' and the techniques demonstrated above,\n",
    "1. Find the 10 countries with most projects\n",
    "2. Find the top 10 major project themes (using column 'mjtheme_namecode')\n",
    "3. In 2. above you will notice that some entries have only the code and the name is missing. Create a dataframe with the missing names filled in."
   ]
  },
  {
   "cell_type": "code",
   "execution_count": 1,
   "metadata": {
    "collapsed": true
   },
   "outputs": [],
   "source": [
    "import pandas as pd\n",
    "import json\n",
    "from collections import Counter"
   ]
  },
  {
   "cell_type": "code",
   "execution_count": 2,
   "metadata": {
    "collapsed": true
   },
   "outputs": [],
   "source": [
    "#retrieving data into DataFrame\n",
    "with open('data/world_bank_projects.json') as json_file:\n",
    "    wb_json = json.load(json_file)\n",
    "wb_df = pd.DataFrame(wb_json)"
   ]
  },
  {
   "cell_type": "code",
   "execution_count": 3,
   "metadata": {
    "collapsed": false
   },
   "outputs": [
    {
     "name": "stdout",
     "output_type": "stream",
     "text": [
      "<class 'pandas.core.frame.DataFrame'>\n",
      "RangeIndex: 500 entries, 0 to 499\n",
      "Data columns (total 50 columns):\n",
      "_id                         500 non-null object\n",
      "approvalfy                  500 non-null object\n",
      "board_approval_month        500 non-null object\n",
      "boardapprovaldate           500 non-null object\n",
      "borrower                    485 non-null object\n",
      "closingdate                 370 non-null object\n",
      "country_namecode            500 non-null object\n",
      "countrycode                 500 non-null object\n",
      "countryname                 500 non-null object\n",
      "countryshortname            500 non-null object\n",
      "docty                       446 non-null object\n",
      "envassesmentcategorycode    430 non-null object\n",
      "grantamt                    500 non-null int64\n",
      "ibrdcommamt                 500 non-null int64\n",
      "id                          500 non-null object\n",
      "idacommamt                  500 non-null int64\n",
      "impagency                   472 non-null object\n",
      "lendinginstr                495 non-null object\n",
      "lendinginstrtype            495 non-null object\n",
      "lendprojectcost             500 non-null int64\n",
      "majorsector_percent         500 non-null object\n",
      "mjsector_namecode           500 non-null object\n",
      "mjtheme                     491 non-null object\n",
      "mjtheme_namecode            500 non-null object\n",
      "mjthemecode                 500 non-null object\n",
      "prodline                    500 non-null object\n",
      "prodlinetext                500 non-null object\n",
      "productlinetype             500 non-null object\n",
      "project_abstract            362 non-null object\n",
      "project_name                500 non-null object\n",
      "projectdocs                 446 non-null object\n",
      "projectfinancialtype        500 non-null object\n",
      "projectstatusdisplay        500 non-null object\n",
      "regionname                  500 non-null object\n",
      "sector                      500 non-null object\n",
      "sector1                     500 non-null object\n",
      "sector2                     380 non-null object\n",
      "sector3                     265 non-null object\n",
      "sector4                     174 non-null object\n",
      "sector_namecode             500 non-null object\n",
      "sectorcode                  500 non-null object\n",
      "source                      500 non-null object\n",
      "status                      500 non-null object\n",
      "supplementprojectflg        498 non-null object\n",
      "theme1                      500 non-null object\n",
      "theme_namecode              491 non-null object\n",
      "themecode                   491 non-null object\n",
      "totalamt                    500 non-null int64\n",
      "totalcommamt                500 non-null int64\n",
      "url                         500 non-null object\n",
      "dtypes: int64(6), object(44)\n",
      "memory usage: 195.4+ KB\n"
     ]
    }
   ],
   "source": [
    "wb_df.info()"
   ]
  },
  {
   "cell_type": "code",
   "execution_count": 4,
   "metadata": {
    "collapsed": false,
    "scrolled": true
   },
   "outputs": [
    {
     "data": {
      "text/plain": [
       "China                 19\n",
       "Indonesia             19\n",
       "Vietnam               17\n",
       "India                 16\n",
       "Yemen, Republic of    13\n",
       "Morocco               12\n",
       "Nepal                 12\n",
       "Bangladesh            12\n",
       "Africa                11\n",
       "Mozambique            11\n",
       "Name: countryshortname, dtype: int64"
      ]
     },
     "execution_count": 4,
     "metadata": {},
     "output_type": "execute_result"
    }
   ],
   "source": [
    "#retrieving 10 most common countries listed\n",
    "wb_df.countryshortname.value_counts().head(10)"
   ]
  },
  {
   "cell_type": "code",
   "execution_count": 5,
   "metadata": {
    "collapsed": false,
    "scrolled": true
   },
   "outputs": [
    {
     "data": {
      "text/plain": [
       "China                 19\n",
       "Indonesia             19\n",
       "Vietnam               17\n",
       "India                 16\n",
       "Yemen, Republic of    13\n",
       "Morocco               12\n",
       "Nepal                 12\n",
       "Bangladesh            12\n",
       "Mozambique            11\n",
       "Brazil                 9\n",
       "Name: countryshortname, dtype: int64"
      ]
     },
     "execution_count": 5,
     "metadata": {},
     "output_type": "execute_result"
    }
   ],
   "source": [
    "#in the previous result, Africa is listed as a country, which is incorrect\n",
    "#below I filter out that result\n",
    "wb_df[wb_df.countryshortname != 'Africa'].countryshortname.value_counts().head(10)"
   ]
  },
  {
   "cell_type": "code",
   "execution_count": 6,
   "metadata": {
    "collapsed": false
   },
   "outputs": [
    {
     "data": {
      "text/plain": [
       "0    [{'code': '8', 'name': 'Human development'}, {...\n",
       "1    [{'code': '1', 'name': 'Economic management'},...\n",
       "2    [{'code': '5', 'name': 'Trade and integration'...\n",
       "Name: mjtheme_namecode, dtype: object"
      ]
     },
     "execution_count": 6,
     "metadata": {},
     "output_type": "execute_result"
    }
   ],
   "source": [
    "#each record in mjtheme_namecode consists of a list of dicts,\n",
    "#where each theme to be counted is represented by a single dict\n",
    "wb_df.mjtheme_namecode.head(3)"
   ]
  },
  {
   "cell_type": "code",
   "execution_count": 7,
   "metadata": {
    "collapsed": true
   },
   "outputs": [],
   "source": [
    "#below I retrieve the name attribute from each theme dict and enter into counter object\n",
    "#I also check to see if the theme dict is missing a value in form '', create a list of\n",
    "#such indices from which I create a new df of missing theme values\n",
    "theme_counter = Counter()\n",
    "missingval_list = []\n",
    "for index, theme_list in enumerate(wb_df.mjtheme_namecode):\n",
    "    for theme_dict in theme_list:\n",
    "        if theme_dict['name'] == '':\n",
    "            missingval_list.append(index)\n",
    "        theme_counter[theme_dict['name']] += 1\n",
    "missingval_df = wb_df.iloc[missingval_list, :]"
   ]
  },
  {
   "cell_type": "code",
   "execution_count": 8,
   "metadata": {
    "collapsed": false
   },
   "outputs": [
    {
     "data": {
      "text/plain": [
       "[('Environment and natural resources management', 223),\n",
       " ('Rural development', 202),\n",
       " ('Human development', 197),\n",
       " ('Public sector governance', 184),\n",
       " ('Social protection and risk management', 158),\n",
       " ('Financial and private sector development', 130),\n",
       " ('', 122),\n",
       " ('Social dev/gender/inclusion', 119),\n",
       " ('Trade and integration', 72),\n",
       " ('Urban development', 47)]"
      ]
     },
     "execution_count": 8,
     "metadata": {},
     "output_type": "execute_result"
    }
   ],
   "source": [
    "theme_counter.most_common(10)"
   ]
  },
  {
   "cell_type": "code",
   "execution_count": 9,
   "metadata": {
    "collapsed": false
   },
   "outputs": [
    {
     "name": "stdout",
     "output_type": "stream",
     "text": [
      "<class 'pandas.core.frame.DataFrame'>\n",
      "Int64Index: 122 entries, 0 to 497\n",
      "Data columns (total 50 columns):\n",
      "_id                         122 non-null object\n",
      "approvalfy                  122 non-null object\n",
      "board_approval_month        122 non-null object\n",
      "boardapprovaldate           122 non-null object\n",
      "borrower                    119 non-null object\n",
      "closingdate                 80 non-null object\n",
      "country_namecode            122 non-null object\n",
      "countrycode                 122 non-null object\n",
      "countryname                 122 non-null object\n",
      "countryshortname            122 non-null object\n",
      "docty                       96 non-null object\n",
      "envassesmentcategorycode    118 non-null object\n",
      "grantamt                    122 non-null int64\n",
      "ibrdcommamt                 122 non-null int64\n",
      "id                          122 non-null object\n",
      "idacommamt                  122 non-null int64\n",
      "impagency                   118 non-null object\n",
      "lendinginstr                120 non-null object\n",
      "lendinginstrtype            120 non-null object\n",
      "lendprojectcost             122 non-null int64\n",
      "majorsector_percent         122 non-null object\n",
      "mjsector_namecode           122 non-null object\n",
      "mjtheme                     113 non-null object\n",
      "mjtheme_namecode            122 non-null object\n",
      "mjthemecode                 122 non-null object\n",
      "prodline                    122 non-null object\n",
      "prodlinetext                122 non-null object\n",
      "productlinetype             122 non-null object\n",
      "project_abstract            63 non-null object\n",
      "project_name                122 non-null object\n",
      "projectdocs                 96 non-null object\n",
      "projectfinancialtype        122 non-null object\n",
      "projectstatusdisplay        122 non-null object\n",
      "regionname                  122 non-null object\n",
      "sector                      122 non-null object\n",
      "sector1                     122 non-null object\n",
      "sector2                     57 non-null object\n",
      "sector3                     27 non-null object\n",
      "sector4                     13 non-null object\n",
      "sector_namecode             122 non-null object\n",
      "sectorcode                  122 non-null object\n",
      "source                      122 non-null object\n",
      "status                      122 non-null object\n",
      "supplementprojectflg        121 non-null object\n",
      "theme1                      122 non-null object\n",
      "theme_namecode              113 non-null object\n",
      "themecode                   113 non-null object\n",
      "totalamt                    122 non-null int64\n",
      "totalcommamt                122 non-null int64\n",
      "url                         122 non-null object\n",
      "dtypes: int64(6), object(44)\n",
      "memory usage: 48.6+ KB\n"
     ]
    }
   ],
   "source": [
    "missingval_df.info()"
   ]
  }
 ],
 "metadata": {
  "kernelspec": {
   "display_name": "Python 3",
   "language": "python",
   "name": "python3"
  },
  "language_info": {
   "codemirror_mode": {
    "name": "ipython",
    "version": 3
   },
   "file_extension": ".py",
   "mimetype": "text/x-python",
   "name": "python",
   "nbconvert_exporter": "python",
   "pygments_lexer": "ipython3",
   "version": "3.6.0"
  }
 },
 "nbformat": 4,
 "nbformat_minor": 2
}
