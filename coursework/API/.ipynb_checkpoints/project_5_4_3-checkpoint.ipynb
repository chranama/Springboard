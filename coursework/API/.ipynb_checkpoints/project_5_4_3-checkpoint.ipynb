{
 "cells": [
  {
   "cell_type": "markdown",
   "metadata": {},
   "source": [
    "This exercise will require you to pull some data from the Qunadl API. Qaundl is currently the most widely used aggregator of financial market data."
   ]
  },
  {
   "cell_type": "markdown",
   "metadata": {},
   "source": [
    "As a first step, you will need to register a free account on the http://www.quandl.com website."
   ]
  },
  {
   "cell_type": "markdown",
   "metadata": {},
   "source": [
    "After you register, you will be provided with a unique API key, that you should store:"
   ]
  },
  {
   "cell_type": "code",
   "execution_count": 1,
   "metadata": {
    "collapsed": true
   },
   "outputs": [],
   "source": [
    "# Store the API key as a string - according to PEP8, constants are always named in all upper case\n",
    "API_KEY = '**********************'"
   ]
  },
  {
   "cell_type": "markdown",
   "metadata": {},
   "source": [
    "Qaundl has a large number of data sources, but, unfortunately, most of them require a Premium subscription. Still, there are also a good number of free datasets."
   ]
  },
  {
   "cell_type": "markdown",
   "metadata": {},
   "source": [
    "For this mini project, we will focus on equities data from the Frankfurt Stock Exhange (FSE), which is available for free. We'll try and analyze the stock prices of a company called Carl Zeiss Meditec, which manufactures tools for eye examinations, as well as medical lasers for laser eye surgery: https://www.zeiss.com/meditec/int/home.html. The company is listed under the stock ticker AFX_X."
   ]
  },
  {
   "cell_type": "markdown",
   "metadata": {},
   "source": [
    "You can find the detailed Quandl API instructions here: https://docs.quandl.com/docs/time-series"
   ]
  },
  {
   "cell_type": "markdown",
   "metadata": {},
   "source": [
    "While there is a dedicated Python package for connecting to the Quandl API, we would prefer that you use the *requests* package, which can be easily downloaded using *pip* or *conda*. You can find the documentation for the package here: http://docs.python-requests.org/en/master/ "
   ]
  },
  {
   "cell_type": "markdown",
   "metadata": {},
   "source": [
    "Finally, apart from the *requests* package, you are encouraged to not use any third party Python packages, such as *pandas*, and instead focus on what's available in the Python Standard Library (the *collections* module might come in handy: https://pymotw.com/3/collections/).\n",
    "Also, since you won't have access to DataFrames, you are encouraged to us Python's native data structures - preferably dictionaries, though some questions can also be answered using lists.\n",
    "You can read more on these data structures here: https://docs.python.org/3/tutorial/datastructures.html"
   ]
  },
  {
   "cell_type": "markdown",
   "metadata": {},
   "source": [
    "Keep in mind that the JSON responses you will be getting from the API map almost one-to-one to Python's dictionaries. Unfortunately, they can be very nested, so make sure you read up on indexing dictionaries in the documentation provided above."
   ]
  },
  {
   "cell_type": "code",
   "execution_count": 2,
   "metadata": {
    "collapsed": false
   },
   "outputs": [],
   "source": [
    "# First, import the relevant modules\n",
    "import requests"
   ]
  },
  {
   "cell_type": "code",
   "execution_count": 3,
   "metadata": {
    "collapsed": true
   },
   "outputs": [],
   "source": [
    "# Now, call the Quandl API and pull out a small sample of the data (only one day) to get a glimpse\n",
    "# into the JSON structure that will be returned\n",
    "test_url = 'https://www.quandl.com/api/v3/datasets/FSE/AFX_X.json?start_date=2017-01-02&end_date=2017-01-02&api_key='\\\n",
    "   + API_KEY\n",
    "test_get = requests.get(test_url)\n",
    "test_dict = test_get.json()"
   ]
  },
  {
   "cell_type": "code",
   "execution_count": 4,
   "metadata": {
    "collapsed": false
   },
   "outputs": [
    {
     "name": "stdout",
     "output_type": "stream",
     "text": [
      "dataset: {'id': 10095370, 'dataset_code': 'AFX_X', 'database_code': 'FSE', 'name': 'Carl Zeiss Meditec (AFX_X)', 'description': 'Stock Prices for Carl Zeiss Meditec (AFX) from the Frankfurt Stock Exchange.<br><br>Trading System: Xetra<br><br>ISIN: DE0005313704', 'refreshed_at': '2018-12-06T22:29:13.842Z', 'newest_available_date': '2018-12-06', 'oldest_available_date': '2000-06-07', 'column_names': ['Date', 'Open', 'High', 'Low', 'Close', 'Change', 'Traded Volume', 'Turnover', 'Last Price of the Day', 'Daily Traded Units', 'Daily Turnover'], 'frequency': 'daily', 'type': 'Time Series', 'premium': False, 'limit': None, 'transform': None, 'column_index': None, 'start_date': '2017-01-02', 'end_date': '2017-01-02', 'data': [['2017-01-02', 34.99, 35.94, 34.99, 35.8, None, 44700.0, 1590561.0, None, None, None]], 'collapse': None, 'order': None, 'database_id': 6129}\n",
      "\n"
     ]
    }
   ],
   "source": [
    "# Inspect the JSON structure of the object you created, and take note of how nested it is,\n",
    "# as well as the overall structure\n",
    "for k in test_dict.keys():\n",
    "    print(k + ': ' + str(test_dict[k]) + '\\n')"
   ]
  },
  {
   "cell_type": "code",
   "execution_count": 5,
   "metadata": {
    "collapsed": false
   },
   "outputs": [
    {
     "name": "stdout",
     "output_type": "stream",
     "text": [
      "id: 10095370\n",
      "\n",
      "dataset_code: AFX_X\n",
      "\n",
      "database_code: FSE\n",
      "\n",
      "name: Carl Zeiss Meditec (AFX_X)\n",
      "\n",
      "description: Stock Prices for Carl Zeiss Meditec (AFX) from the Frankfurt Stock Exchange.<br><br>Trading System: Xetra<br><br>ISIN: DE0005313704\n",
      "\n",
      "refreshed_at: 2018-12-06T22:29:13.842Z\n",
      "\n",
      "newest_available_date: 2018-12-06\n",
      "\n",
      "oldest_available_date: 2000-06-07\n",
      "\n",
      "column_names: ['Date', 'Open', 'High', 'Low', 'Close', 'Change', 'Traded Volume', 'Turnover', 'Last Price of the Day', 'Daily Traded Units', 'Daily Turnover']\n",
      "\n",
      "frequency: daily\n",
      "\n",
      "type: Time Series\n",
      "\n",
      "premium: False\n",
      "\n",
      "limit: None\n",
      "\n",
      "transform: None\n",
      "\n",
      "column_index: None\n",
      "\n",
      "start_date: 2017-01-02\n",
      "\n",
      "end_date: 2017-01-02\n",
      "\n",
      "data: [['2017-01-02', 34.99, 35.94, 34.99, 35.8, None, 44700.0, 1590561.0, None, None, None]]\n",
      "\n",
      "collapse: None\n",
      "\n",
      "order: None\n",
      "\n",
      "database_id: 6129\n",
      "\n"
     ]
    }
   ],
   "source": [
    "for k in test_dict['dataset'].keys():\n",
    "    print(k + ': ' + str(test_dict['dataset'][k]) + '\\n')"
   ]
  },
  {
   "cell_type": "code",
   "execution_count": 6,
   "metadata": {
    "collapsed": false
   },
   "outputs": [
    {
     "name": "stdout",
     "output_type": "stream",
     "text": [
      "id: 10095370\n",
      "\n",
      "dataset_code: AFX_X\n",
      "\n",
      "database_code: FSE\n",
      "\n",
      "name: Carl Zeiss Meditec (AFX_X)\n",
      "\n",
      "description: Stock Prices for Carl Zeiss Meditec (AFX) from the Frankfurt Stock Exchange.<br><br>Trading System: Xetra<br><br>ISIN: DE0005313704\n",
      "\n",
      "refreshed_at: 2018-12-06T22:29:13.842Z\n",
      "\n",
      "newest_available_date: 2018-12-06\n",
      "\n",
      "oldest_available_date: 2000-06-07\n",
      "\n",
      "column_names: ['Date', 'Open', 'High', 'Low', 'Close', 'Change', 'Traded Volume', 'Turnover', 'Last Price of the Day', 'Daily Traded Units', 'Daily Turnover']\n",
      "\n",
      "frequency: daily\n",
      "\n",
      "type: Time Series\n",
      "\n",
      "premium: False\n",
      "\n",
      "limit: None\n",
      "\n",
      "transform: None\n",
      "\n",
      "column_index: None\n",
      "\n",
      "start_date: 2017-01-02\n",
      "\n",
      "end_date: 2017-01-09\n",
      "\n",
      "data: [['2017-01-09', 35.29, 35.35, 34.43, 34.67, None, 62225.0, 2157182.0, None, None, None], ['2017-01-06', 34.91, 35.21, 34.91, 35.04, None, 27507.0, 964046.0, None, None, None], ['2017-01-05', 35.02, 35.2, 34.73, 35.06, None, 48412.0, 1692326.0, None, None, None], ['2017-01-04', 35.48, 35.51, 34.75, 35.19, None, 54408.0, 1906810.0, None, None, None], ['2017-01-03', 35.9, 35.93, 35.34, 35.48, None, 70618.0, 2515473.0, None, None, None], ['2017-01-02', 34.99, 35.94, 34.99, 35.8, None, 44700.0, 1590561.0, None, None, None]]\n",
      "\n",
      "collapse: None\n",
      "\n",
      "order: None\n",
      "\n",
      "database_id: 6129\n",
      "\n"
     ]
    }
   ],
   "source": [
    "#I am retrieving a week's worth of data\n",
    "test_2_url = 'https://www.quandl.com/api/v3/datasets/FSE/AFX_X.json?start_date=2017-01-02&end_date=2017-01-09&api_key='\\\n",
    "    + API_KEY\n",
    "test_2_dict = requests.get(test_2_url).json()['dataset']\n",
    "for k in test_2_dict.keys():\n",
    "    print(k + ': ' + str(test_2_dict[k]) + '\\n')"
   ]
  },
  {
   "cell_type": "code",
   "execution_count": 7,
   "metadata": {
    "collapsed": false
   },
   "outputs": [
    {
     "data": {
      "text/plain": [
       "list"
      ]
     },
     "execution_count": 7,
     "metadata": {},
     "output_type": "execute_result"
    }
   ],
   "source": [
    "type(test_2_dict['data'])"
   ]
  },
  {
   "cell_type": "markdown",
   "metadata": {},
   "source": [
    "These are your tasks for this mini project:\n",
    "\n",
    "1. Collect data from the Franfurt Stock Exchange, for the ticker AFX_X, for the whole year 2017 (keep in mind that the date format is YYYY-MM-DD).\n",
    "2. Convert the returned JSON object into a Python dictionary.\n",
    "3. Calculate what the highest and lowest opening prices were for the stock in this period.\n",
    "4. What was the largest change in any one day (based on High and Low price)?\n",
    "5. What was the largest change between any two days (based on Closing Price)?\n",
    "6. What was the average daily trading volume during this year?\n",
    "7. (Optional) What was the median trading volume during this year. (Note: you may need to implement your own function for calculating the median.)"
   ]
  },
  {
   "cell_type": "code",
   "execution_count": 8,
   "metadata": {
    "collapsed": true
   },
   "outputs": [],
   "source": [
    "#retrieving data\n",
    "y2017_url = 'https://www.quandl.com/api/v3/datasets/FSE/AFX_X.json?start_date=2017-01-01&end_date=2017-12-31&api_key='\\\n",
    "    + API_KEY\n",
    "y2017_data = requests.get(y2017_url).json()['dataset']['data']"
   ]
  },
  {
   "cell_type": "code",
   "execution_count": 9,
   "metadata": {
    "collapsed": false
   },
   "outputs": [
    {
     "name": "stdout",
     "output_type": "stream",
     "text": [
      "Highest opening price: 53.11\n",
      "\n",
      "Lowest opening price:  34.0\n",
      "\n"
     ]
    }
   ],
   "source": [
    "#calculating highest and lowest opening prices\n",
    "open_price = []\n",
    "for d in y2017_data:\n",
    "    if d[1] != None:\n",
    "        open_price.append(d[1])\n",
    "print('Highest opening price: ' + str(max(open_price)) + '\\n')\n",
    "print('Lowest opening price:  ' + str(min(open_price)) + '\\n')"
   ]
  },
  {
   "cell_type": "code",
   "execution_count": 10,
   "metadata": {
    "collapsed": false
   },
   "outputs": [
    {
     "name": "stdout",
     "output_type": "stream",
     "text": [
      "Largest change in one day: 2.8100000000000023\n",
      "\n"
     ]
    }
   ],
   "source": [
    "#largest change in one day\n",
    "change_within_day = []\n",
    "for d in y2017_data:\n",
    "    if (d[2] != None) & (d[3] != None):\n",
    "        change_within_day.append(d[2] - d[3])\n",
    "print('Largest change in one day: ' + str(max(change_within_day)) + '\\n')"
   ]
  },
  {
   "cell_type": "code",
   "execution_count": 11,
   "metadata": {
    "collapsed": false
   },
   "outputs": [
    {
     "name": "stdout",
     "output_type": "stream",
     "text": [
      "Largest change between days: 1.7199999999999989\n",
      "\n"
     ]
    }
   ],
   "source": [
    "#largest change between 2 days\n",
    "change_between_days = []\n",
    "for i in range(len(y2017_data) - 1):\n",
    "    if (y2017_data[i][4] != None) & (y2017_data[i+1][4] != None):\n",
    "        change_between_days.append(y2017_data[i][4] - y2017_data[i+1][4])\n",
    "print('Largest change between days: ' + str(max(change_between_days)) + '\\n')"
   ]
  },
  {
   "cell_type": "code",
   "execution_count": 12,
   "metadata": {
    "collapsed": false
   },
   "outputs": [
    {
     "name": "stdout",
     "output_type": "stream",
     "text": [
      "Mean daily trading volume: 89124.33725490196\n",
      "\n"
     ]
    }
   ],
   "source": [
    "#mean daily trading volume\n",
    "daily_trading_volume = []\n",
    "for d in y2017_data:\n",
    "    if d[6] != None:\n",
    "        daily_trading_volume.append(d[6])\n",
    "print('Mean daily trading volume: ' + str(sum(daily_trading_volume) / len(daily_trading_volume)) + '\\n')"
   ]
  },
  {
   "cell_type": "code",
   "execution_count": 13,
   "metadata": {
    "collapsed": false
   },
   "outputs": [
    {
     "name": "stdout",
     "output_type": "stream",
     "text": [
      "There are 255 elements in the sorted trading volume list,\n",
      "therefore the median will occur in position 127\n",
      "\n",
      "Median daily trading volume: 76286.0\n",
      "\n"
     ]
    }
   ],
   "source": [
    "#median daily trading volume\n",
    "sorted_trading_volume = sorted(daily_trading_volume)\n",
    "midpoint = int((len(sorted_trading_volume) - 1) / 2)\n",
    "print('There are ' + str(len(sorted_trading_volume)) + ' elements in the sorted trading volume list,')\n",
    "print('therefore the median will occur in position ' + str(midpoint) + '\\n')\n",
    "print('Median daily trading volume: ' + str(sorted_trading_volume[midpoint]) + '\\n')"
   ]
  }
 ],
 "metadata": {
  "kernelspec": {
   "display_name": "Python 3",
   "language": "python",
   "name": "python3"
  },
  "language_info": {
   "codemirror_mode": {
    "name": "ipython",
    "version": 3
   },
   "file_extension": ".py",
   "mimetype": "text/x-python",
   "name": "python",
   "nbconvert_exporter": "python",
   "pygments_lexer": "ipython3",
   "version": "3.6.0"
  }
 },
 "nbformat": 4,
 "nbformat_minor": 2
}
